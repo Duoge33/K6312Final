{
 "cells": [
  {
   "cell_type": "code",
   "execution_count": 1,
   "id": "253e2b13",
   "metadata": {},
   "outputs": [
    {
     "data": {
      "text/html": [
       "        <script type=\"text/javascript\">\n",
       "        window.PlotlyConfig = {MathJaxConfig: 'local'};\n",
       "        if (window.MathJax && window.MathJax.Hub && window.MathJax.Hub.Config) {window.MathJax.Hub.Config({SVG: {font: \"STIX-Web\"}});}\n",
       "        if (typeof require !== 'undefined') {\n",
       "        require.undef(\"plotly\");\n",
       "        requirejs.config({\n",
       "            paths: {\n",
       "                'plotly': ['https://cdn.plot.ly/plotly-2.12.1.min']\n",
       "            }\n",
       "        });\n",
       "        require(['plotly'], function(Plotly) {\n",
       "            window._Plotly = Plotly;\n",
       "        });\n",
       "        }\n",
       "        </script>\n",
       "        "
      ]
     },
     "metadata": {},
     "output_type": "display_data"
    },
    {
     "name": "stderr",
     "output_type": "stream",
     "text": [
      "[nltk_data] Downloading package stopwords to C:\\Users\\HU\n",
      "[nltk_data]     ZEWEN\\AppData\\Roaming\\nltk_data...\n",
      "[nltk_data]   Package stopwords is already up-to-date!\n",
      "[nltk_data] Downloading package omw-1.4 to C:\\Users\\HU\n",
      "[nltk_data]     ZEWEN\\AppData\\Roaming\\nltk_data...\n",
      "[nltk_data]   Package omw-1.4 is already up-to-date!\n",
      "[nltk_data] Downloading package wordnet to C:\\Users\\HU\n",
      "[nltk_data]     ZEWEN\\AppData\\Roaming\\nltk_data...\n",
      "[nltk_data]   Package wordnet is already up-to-date!\n",
      "[nltk_data] Downloading package punkt to C:\\Users\\HU\n",
      "[nltk_data]     ZEWEN\\AppData\\Roaming\\nltk_data...\n",
      "[nltk_data]   Package punkt is already up-to-date!\n",
      "[nltk_data] Downloading package vader_lexicon to C:\\Users\\HU\n",
      "[nltk_data]     ZEWEN\\AppData\\Roaming\\nltk_data...\n",
      "[nltk_data]   Package vader_lexicon is already up-to-date!\n"
     ]
    }
   ],
   "source": [
    "import pandas as pd\n",
    "import numpy as np\n",
    "import re\n",
    "import sklearn\n",
    "from sklearn.metrics import accuracy_score, classification_report, confusion_matrix, adjusted_rand_score\n",
    "from sklearn.model_selection import train_test_split\n",
    "from sklearn.naive_bayes import MultinomialNB\n",
    "from sklearn.feature_extraction.text import TfidfVectorizer\n",
    "from sklearn.linear_model import LogisticRegression\n",
    "from sklearn.tree import DecisionTreeClassifier\n",
    "from sklearn.ensemble import RandomForestClassifier, AdaBoostClassifier, StackingClassifier\n",
    "from sklearn.model_selection import GridSearchCV,KFold, cross_val_score\n",
    "from sklearn.svm import LinearSVC\n",
    "import lightgbm as lgb\n",
    "import seaborn as sns\n",
    "import matplotlib.pyplot as plt\n",
    "%matplotlib inline\n",
    "\n",
    "import plotly.offline as py\n",
    "py.init_notebook_mode(connected=True)\n",
    "import plotly.graph_objs as go\n",
    "import plotly.tools as tls\n",
    "\n",
    "from sklearn.model_selection import KFold\n",
    "\n",
    "import nltk\n",
    "from nltk.sentiment.vader import SentimentIntensityAnalyzer\n",
    "from nltk.corpus import stopwords\n",
    "from nltk.tokenize import word_tokenize\n",
    "from nltk.stem import WordNetLemmatizer\n",
    "nltk.download('stopwords')\n",
    "nltk.download('omw-1.4')\n",
    "nltk.download('wordnet')\n",
    "nltk.download('punkt')\n",
    "nltk.download('vader_lexicon')\n",
    "import lightgbm"
   ]
  },
  {
   "cell_type": "code",
   "execution_count": 2,
   "id": "0ebae318",
   "metadata": {},
   "outputs": [],
   "source": [
    "def grid_search(model, parameters, features, labels):\n",
    "  cv = GridSearchCV(model, parameters, cv=5)\n",
    "  cv.fit(features, labels.values.ravel())\n",
    "  print_results(cv)\n",
    "\n",
    "  return cv"
   ]
  },
  {
   "cell_type": "code",
   "execution_count": 3,
   "id": "4861678d",
   "metadata": {},
   "outputs": [],
   "source": [
    "df_hotel = pd.read_csv(\"tripadvisor_hotel_reviews.csv\")\n",
    "positive = [4, 5]\n",
    "neutral = [3]\n",
    "negative = [1, 2]\n",
    "\n",
    "def map_sentiment(rating):\n",
    "    if rating in positive:\n",
    "        return 2\n",
    "    elif rating in neutral:\n",
    "        return 1\n",
    "    else:\n",
    "        return 0\n",
    "\n",
    "df_hotel['Sentiment']= df_hotel['Rating'].apply(map_sentiment)"
   ]
  },
  {
   "cell_type": "code",
   "execution_count": 4,
   "id": "ba5d9b14",
   "metadata": {},
   "outputs": [],
   "source": [
    "from sklearn.feature_extraction.text import TfidfVectorizer\n",
    "tfidf = TfidfVectorizer(ngram_range=(1, 3), max_features=10000, tokenizer = word_tokenize)\n",
    "X = tfidf.fit_transform(df_hotel['Review'])\n",
    "y = df_hotel['Sentiment']\n",
    "\n",
    "X_train, X_test, y_train, y_test = train_test_split(X, y, test_size= 0.25, random_state=24)"
   ]
  },
  {
   "cell_type": "code",
   "execution_count": 8,
   "id": "c818251f",
   "metadata": {},
   "outputs": [
    {
     "name": "stdout",
     "output_type": "stream",
     "text": [
      "Accuracy: 0.8489166504001562\n",
      "Classification Report:\n",
      "              precision    recall  f1-score   support\n",
      "\n",
      "           0       0.75      0.76      0.75       810\n",
      "           1       0.56      0.14      0.23       565\n",
      "           2       0.88      0.97      0.92      3748\n",
      "\n",
      "    accuracy                           0.85      5123\n",
      "   macro avg       0.73      0.63      0.63      5123\n",
      "weighted avg       0.82      0.85      0.82      5123\n",
      "\n"
     ]
    }
   ],
   "source": [
    "# Stacking \n",
    "estimators = [('rf', RandomForestClassifier()),\n",
    "              ('ada', AdaBoostClassifier())]\n",
    "\n",
    "sc = StackingClassifier(estimators=estimators)\n",
    "sc.get_params()\n",
    "parameters = {\n",
    "    'rf__n_estimators': [500],\n",
    "    'ada__n_estimators': [5000],\n",
    "    'final_estimator': [LogisticRegression(C=10)],\n",
    "    'passthrough': [False]\n",
    "}\n",
    "sc.fit(X_train, y_train)\n",
    "\n",
    "predicted_sc = sc.predict(X_test)\n",
    "accuracy_sc = accuracy_score(y_test, predicted_sc)\n",
    "print('Accuracy:', accuracy_sc)\n",
    "print('Classification Report:')\n",
    "print(classification_report(y_test, predicted_sc))"
   ]
  },
  {
   "cell_type": "code",
   "execution_count": null,
   "id": "b6738ee4",
   "metadata": {},
   "outputs": [],
   "source": []
  },
  {
   "cell_type": "code",
   "execution_count": null,
   "id": "0a6f8302",
   "metadata": {},
   "outputs": [],
   "source": []
  },
  {
   "cell_type": "code",
   "execution_count": null,
   "id": "c307d013",
   "metadata": {},
   "outputs": [],
   "source": []
  },
  {
   "cell_type": "code",
   "execution_count": null,
   "id": "eb9e9a0b",
   "metadata": {},
   "outputs": [],
   "source": []
  }
 ],
 "metadata": {
  "kernelspec": {
   "display_name": "Python 3 (ipykernel)",
   "language": "python",
   "name": "python3"
  },
  "language_info": {
   "codemirror_mode": {
    "name": "ipython",
    "version": 3
   },
   "file_extension": ".py",
   "mimetype": "text/x-python",
   "name": "python",
   "nbconvert_exporter": "python",
   "pygments_lexer": "ipython3",
   "version": "3.9.13"
  }
 },
 "nbformat": 4,
 "nbformat_minor": 5
}
